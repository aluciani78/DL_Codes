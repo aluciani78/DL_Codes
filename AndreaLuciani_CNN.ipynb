{
 "cells": [
  {
   "cell_type": "markdown",
   "metadata": {
    "id": "Q91KqmCRu64D"
   },
   "source": [
    "# **Convolutional Neural Networks Project: Street View Housing Number Digit Recognition**\n",
    "\n",
    "# **Marks: 30**\n",
    "\n",
    "Welcome to the project on classification using Convolutional Neural Networks. We will continue to work with the Street View Housing Numbers (SVHN) image dataset for this project.\n",
    "\n",
    "--------------\n",
    "## **Context** \n",
    "--------------\n",
    "\n",
    "One of the most interesting tasks in deep learning is to recognize objects in natural scenes. The ability to process visual information using machine learning algorithms can be very useful as demonstrated in various applications.\n",
    "\n",
    "The SVHN dataset contains over 600,000 labeled digits cropped from street-level photos. It is one of the most popular image recognition datasets. It has been used in neural networks created by Google to improve the map quality by automatically transcribing the address numbers from a patch of pixels. The transcribed number with a known street address helps pinpoint the location of the building it represents. \n",
    "\n",
    "----------------\n",
    "## **Objective**\n",
    "----------------\n",
    "\n",
    "To build a CNN model that can recognize the digits in the images.\n",
    "\n",
    "-------------\n",
    "## **Dataset**\n",
    "-------------\n",
    "Here, we will use a subset of the original data to save some computation time. The dataset is provided as a .h5 file. The basic preprocessing steps have been applied on the dataset."
   ]
  },
  {
   "cell_type": "markdown",
   "metadata": {
    "id": "8z2Z7-OAs8QG"
   },
   "source": [
    "## **Mount the drive**\n",
    "\n",
    "Let us start by mounting the Google drive. You can run the below cell to mount the Google drive."
   ]
  },
  {
   "cell_type": "code",
   "execution_count": 1,
   "metadata": {
    "colab": {
     "base_uri": "https://localhost:8080/"
    },
    "id": "03lDyQUuef7z",
    "outputId": "9dbf14f0-486d-4400-bc1d-ed670f1aa540"
   },
   "outputs": [
    {
     "name": "stdout",
     "output_type": "stream",
     "text": [
      "Mounted at /content/drive\n"
     ]
    }
   ],
   "source": [
    "from google.colab import drive\n",
    "\n",
    "drive.mount('/content/drive')"
   ]
  },
  {
   "cell_type": "markdown",
   "metadata": {
    "id": "C8U3DUa3eNsT"
   },
   "source": [
    "## **Importing the necessary libraries**"
   ]
  },
  {
   "cell_type": "code",
   "execution_count": 2,
   "metadata": {
    "id": "-dVzeuF3eQx1"
   },
   "outputs": [],
   "source": [
    "import numpy as np\n",
    "\n",
    "import pandas as pd\n",
    "\n",
    "import matplotlib.pyplot as plt\n",
    "\n",
    "import seaborn as sns\n",
    "\n",
    "from sklearn.model_selection import train_test_split\n",
    "\n",
    "from sklearn.preprocessing import MinMaxScaler\n",
    "\n",
    "import tensorflow as tf\n",
    "\n",
    "from tensorflow.keras.models import Sequential\n",
    "\n",
    "from tensorflow.keras.layers import Dense, Conv2D, MaxPool2D, BatchNormalization, Dropout, Flatten, LeakyReLU, Activation\n",
    "\n",
    "from tensorflow.keras.losses import categorical_crossentropy\n",
    "\n",
    "from tensorflow.keras.optimizers import Adam\n",
    "\n",
    "from tensorflow.keras.utils import to_categorical"
   ]
  },
  {
   "cell_type": "markdown",
   "metadata": {
    "id": "ucnevGLoyKf_"
   },
   "source": [
    "**Let us check the version of tensorflow.**"
   ]
  },
  {
   "cell_type": "code",
   "execution_count": 3,
   "metadata": {
    "colab": {
     "base_uri": "https://localhost:8080/"
    },
    "id": "W5as47YxyJVk",
    "outputId": "b3bbea97-8d0d-4641-9f9c-e7b9950e5b57"
   },
   "outputs": [
    {
     "name": "stdout",
     "output_type": "stream",
     "text": [
      "2.8.2\n"
     ]
    }
   ],
   "source": [
    "print(tf.__version__)"
   ]
  },
  {
   "cell_type": "markdown",
   "metadata": {
    "id": "8lsux2ZwyTTR"
   },
   "source": [
    "## **Load the dataset**\n",
    "\n",
    "- Let us now load the dataset that is available as a .h5 file.\n",
    "- Split the data into the train and the test dataset."
   ]
  },
  {
   "cell_type": "code",
   "execution_count": 4,
   "metadata": {
    "id": "BApX9qgNsqV0",
    "scrolled": true
   },
   "outputs": [],
   "source": [
    "import h5py\n",
    "\n",
    "# Open the file as read only\n",
    "# User can make changes in the path as required\n",
    "\n",
    "h5f = h5py.File('/content/drive/MyDrive/Elective project DL/SVHN_single_grey1.h5', 'r')\n",
    "\n",
    "# Load the the train and the test dataset\n",
    "\n",
    "X_train = h5f['X_train'][:]\n",
    "\n",
    "y_train = h5f['y_train'][:]\n",
    "\n",
    "X_test = h5f['X_test'][:]\n",
    "\n",
    "y_test = h5f['y_test'][:]\n",
    "\n",
    "\n",
    "# Close this file\n",
    "\n",
    "h5f.close()"
   ]
  },
  {
   "cell_type": "markdown",
   "metadata": {
    "id": "hVe0CYpUgj7w"
   },
   "source": [
    "Let's check the number of images in the training and the testing dataset."
   ]
  },
  {
   "cell_type": "code",
   "execution_count": 5,
   "metadata": {
    "colab": {
     "base_uri": "https://localhost:8080/"
    },
    "id": "y3lwKpOefkpA",
    "outputId": "a8e520be-ac58-4774-b314-0a353b2fd907"
   },
   "outputs": [
    {
     "data": {
      "text/plain": [
       "(42000, 18000)"
      ]
     },
     "execution_count": 5,
     "metadata": {},
     "output_type": "execute_result"
    }
   ],
   "source": [
    "len(X_train), len(X_test)"
   ]
  },
  {
   "cell_type": "markdown",
   "metadata": {
    "id": "akTUOfLlgwoM"
   },
   "source": [
    "**Observation:**\n",
    "- There are 42,000 images in the training data and 18,000 images in the testing data. "
   ]
  },
  {
   "cell_type": "markdown",
   "metadata": {
    "id": "kxODV6HKykuc"
   },
   "source": [
    "## **Visualizing images**\n",
    "\n",
    "- Use X_train to visualize the first 10 images.\n",
    "- Use Y_train to print the first 10 labels."
   ]
  },
  {
   "cell_type": "markdown",
   "metadata": {
    "id": "giALtffZKDNq"
   },
   "source": [
    "### **Question 1: Complete the below code to visualize the first 10 images in the dataset. (1 Mark)**"
   ]
  },
  {
   "cell_type": "code",
   "execution_count": 6,
   "metadata": {
    "colab": {
     "base_uri": "https://localhost:8080/",
     "height": 96
    },
    "id": "Bvsc8ytHsqWD",
    "outputId": "864a2649-bdb7-43c0-a7e2-5a8434d271e5"
   },
   "outputs": [
    {
     "data": {
      "image/png": "[encoded data removed]",
      "text/plain": [
       "<Figure size 720x72 with 10 Axes>"
      ]
     },
     "metadata": {
      "needs_background": "light"
     },
     "output_type": "display_data"
    },
    {
     "name": "stdout",
     "output_type": "stream",
     "text": [
      "label for each of the above image: [2 6 7 4 4 0 3 0 7 3]\n"
     ]
    }
   ],
   "source": [
    "# Visualizing the first 10 images in the dataset and printing their labels\n",
    "\n",
    "%matplotlib inline\n",
    "\n",
    "import matplotlib.pyplot as plt\n",
    "\n",
    "plt.figure(figsize = (10, 1))\n",
    "\n",
    "for i in range(10):\n",
    "\n",
    "    plt.subplot(1, 10, i+1)\n",
    "    \n",
    "    plt.imshow(X_train[i], cmap = \"gray\")  # Write the function to visualize images\n",
    "\n",
    "    plt.axis('off')\n",
    "\n",
    "plt.show()\n",
    "\n",
    "print('label for each of the above image: %s' % (y_train[0:10]))"
   ]
  },
  {
   "cell_type": "markdown",
   "metadata": {
    "id": "kzoyeXHOy80N"
   },
   "source": [
    "## **Data preparation**\n",
    "\n",
    "- Print the shape and the array of pixels for the first image in the training dataset.\n",
    "- Reshape the train and the test dataset because we always have to give a 4D array as input to CNNs.\n",
    "- Normalize the train and the test dataset by dividing by 255.\n",
    "- Print the new shapes of the train and the test dataset.\n",
    "- One-hot encode the target variable."
   ]
  },
  {
   "cell_type": "code",
   "execution_count": 7,
   "metadata": {
    "colab": {
     "base_uri": "https://localhost:8080/"
    },
    "id": "NqndzQXng9rL",
    "outputId": "4bbb65b6-190b-4615-a2ce-f1e15c5d5283"
   },
   "outputs": [
    {
     "name": "stdout",
     "output_type": "stream",
     "text": [
      "Shape: (32, 32)\n",
      "\n",
      "First image:\n",
      " [[ 33.0704  30.2601  26.852  ...  71.4471  58.2204  42.9939]\n",
      " [ 25.2283  25.5533  29.9765 ... 113.0209 103.3639  84.2949]\n",
      " [ 26.2775  22.6137  40.4763 ... 113.3028 121.775  115.4228]\n",
      " ...\n",
      " [ 28.5502  36.212   45.0801 ...  24.1359  25.0927  26.0603]\n",
      " [ 38.4352  26.4733  23.2717 ...  28.1094  29.4683  30.0661]\n",
      " [ 50.2984  26.0773  24.0389 ...  49.6682  50.853   53.0377]]\n"
     ]
    }
   ],
   "source": [
    "# Shape and the array of pixels for the first image\n",
    "\n",
    "print(\"Shape:\", X_train[0].shape)\n",
    "\n",
    "print()\n",
    "\n",
    "print(\"First image:\\n\", X_train[0])"
   ]
  },
  {
   "cell_type": "code",
   "execution_count": 8,
   "metadata": {
    "id": "D9YPwf9ysqWU"
   },
   "outputs": [],
   "source": [
    "# Reshaping the dataset to be able to pass them to CNNs. Remember that we always have to give a 4D array as input to CNNs\n",
    "\n",
    "X_train = X_train.reshape(X_train.shape[0], 32, 32, 1)\n",
    "\n",
    "X_test = X_test.reshape(X_test.shape[0], 32, 32, 1)"
   ]
  },
  {
   "cell_type": "code",
   "execution_count": 9,
   "metadata": {
    "id": "q_yUUTp_mUzB"
   },
   "outputs": [],
   "source": [
    "# Normalize inputs from 0-255 to 0-1\n",
    "\n",
    "X_train = X_train / 255.0\n",
    "\n",
    "X_test = X_test / 255.0"
   ]
  },
  {
   "cell_type": "code",
   "execution_count": 10,
   "metadata": {
    "colab": {
     "base_uri": "https://localhost:8080/"
    },
    "id": "t7FSqOpamWkH",
    "outputId": "a480f494-ab41-4c25-e9eb-7861e817b289"
   },
   "outputs": [
    {
     "name": "stdout",
     "output_type": "stream",
     "text": [
      "Training set: (42000, 32, 32, 1) (42000,)\n",
      "Test set: (18000, 32, 32, 1) (18000,)\n"
     ]
    }
   ],
   "source": [
    "# New shape \n",
    "\n",
    "print('Training set:', X_train.shape, y_train.shape)\n",
    "\n",
    "print('Test set:', X_test.shape, y_test.shape)"
   ]
  },
  {
   "cell_type": "markdown",
   "metadata": {
    "id": "10QaOV-xR7Jn"
   },
   "source": [
    "### **Question 2: One-hot encode the labels in the target variable y_train and y_test. (2 Marks)**"
   ]
  },
  {
   "cell_type": "code",
   "execution_count": 11,
   "metadata": {
    "colab": {
     "base_uri": "https://localhost:8080/"
    },
    "id": "zL0lYER4sqWw",
    "outputId": "470723ef-c9d5-4992-8c74-a6a2a0487837"
   },
   "outputs": [
    {
     "data": {
      "text/plain": [
       "array([[0., 1., 0., ..., 0., 0., 0.],\n",
       "       [0., 0., 0., ..., 1., 0., 0.],\n",
       "       [0., 0., 1., ..., 0., 0., 0.],\n",
       "       ...,\n",
       "       [0., 0., 0., ..., 1., 0., 0.],\n",
       "       [0., 0., 0., ..., 0., 0., 1.],\n",
       "       [0., 0., 1., ..., 0., 0., 0.]], dtype=float32)"
      ]
     },
     "execution_count": 11,
     "metadata": {},
     "output_type": "execute_result"
    }
   ],
   "source": [
    "# Write the function and appropriate variable name to one-hot encode the output\n",
    "\n",
    "y_train = to_categorical(y_train)\n",
    "\n",
    "y_test = to_categorical(y_test)\n",
    "\n",
    "# test labels\n",
    "\n",
    "y_test"
   ]
  },
  {
   "cell_type": "markdown",
   "metadata": {
    "id": "ViqPOTquCF76"
   },
   "source": [
    "**Observation:**\n",
    "- Notice that each entry of the target variable is a one-hot encoded vector instead of a single label."
   ]
  },
  {
   "cell_type": "markdown",
   "metadata": {
    "id": "yH-gVrzuByNA"
   },
   "source": [
    "## **Model Building**\n",
    "\n",
    "Now that we have done data preprocessing, let's build a CNN model."
   ]
  },
  {
   "cell_type": "code",
   "execution_count": 12,
   "metadata": {
    "id": "ZY5pyF4-KDNt"
   },
   "outputs": [],
   "source": [
    "# Fixing the seed for random number generators\n",
    "\n",
    "np.random.seed(42)\n",
    "\n",
    "import random\n",
    "\n",
    "random.seed(42)\n",
    "\n",
    "tf.random.set_seed(42)"
   ]
  },
  {
   "cell_type": "markdown",
   "metadata": {
    "id": "UJDUoaEj1d6e"
   },
   "source": [
    "### **Model Architecture**\n",
    "- **Write a function** that returns a sequential model with the following architecture:\n",
    " - First Convolutional layer with **16 filters and the kernel size of 3x3**. Use the **'same' padding** and provide the **input shape = (32, 32, 1)**\n",
    " - Add a **LeakyRelu layer** with the **slope equal to 0.1**\n",
    " - Second Convolutional layer with **32 filters and the kernel size of 3x3 with 'same' padding**\n",
    " - Another **LeakyRelu** with the **slope equal to 0.1**\n",
    " - A **max-pooling layer** with a **pool size of 2x2**\n",
    " - **Flatten** the output from the previous layer\n",
    " - Add a **dense layer with 32 nodes**\n",
    " - Add a **LeakyRelu layer with the slope equal to 0.1**\n",
    " - Add the final **output layer with nodes equal to the number of classes, i.e., 10** and **'softmax' as the activation function**\n",
    " - Compile the model with the **loss equal to categorical_crossentropy, optimizer equal to Adam(learning_rate = 0.001), and metric equal to 'accuracy'**. Do not fit the model here, just return the compiled model.\n",
    "- Call the function cnn_model_1 and store the output in a new variable.\n",
    "- Print the summary of the model.\n",
    "- Fit the model on the training data with a **validation split of 0.2, batch size = 32, verbose = 1, and epochs = 20**. Store the model building history to use later for visualization."
   ]
  },
  {
   "cell_type": "markdown",
   "metadata": {
    "id": "JWsAd45JKDNu"
   },
   "source": [
    "### **Question 3: Build and train a CNN model as per the above mentioned architecture. (10 Marks)**"
   ]
  },
  {
   "cell_type": "code",
   "execution_count": 13,
   "metadata": {
    "id": "Cmi81Gr5sqW-"
   },
   "outputs": [],
   "source": [
    "# Define the model\n",
    "\n",
    "def cnn_model_1():\n",
    "\n",
    "    model = Sequential() \n",
    "    \n",
    "    # Add layers as per the architecture mentioned above in the same sequence\n",
    "\n",
    "    model.add(Conv2D(filters = 16, kernel_size = (3, 3), padding = 'same', input_shape = (32, 32, 1)))\n",
    "\n",
    "    model.add(LeakyReLU(alpha=0.1))\n",
    "\n",
    "    model.add(Conv2D(32,(3, 3), padding = \"same\"))\n",
    "\n",
    "    model.add(LeakyReLU(alpha=0.1))\n",
    "\n",
    "    model.add(MaxPool2D((2, 2)))\n",
    "\n",
    "    model.add(Flatten())\n",
    "\n",
    "    model.add(Dense(32))\n",
    "\n",
    "    model.add(LeakyReLU(alpha=0.1))\n",
    "\n",
    "    model.add(Dense(10, activation = 'softmax'))\n",
    "    \n",
    "    # Compile the model\n",
    "\n",
    "    model.compile(optimizer = Adam(learning_rate = 0.001), loss = 'categorical_crossentropy', metrics = ['accuracy'])\n",
    "    \n",
    "    return model"
   ]
  },
  {
   "cell_type": "code",
   "execution_count": 14,
   "metadata": {
    "id": "bGCUI_xsImnH"
   },
   "outputs": [],
   "source": [
    "# Build the model\n",
    "\n",
    "model_1 = cnn_model_1()"
   ]
  },
  {
   "cell_type": "code",
   "execution_count": 15,
   "metadata": {
    "colab": {
     "base_uri": "https://localhost:8080/"
    },
    "id": "ckJsLdmdQadZ",
    "outputId": "986c96a6-f054-4d28-e18a-c2ba49523a0f"
   },
   "outputs": [
    {
     "name": "stdout",
     "output_type": "stream",
     "text": [
      "Model: \"sequential\"\n",
      "_________________________________________________________________\n",
      " Layer (type)                Output Shape              Param #   \n",
      "=================================================================\n",
      " conv2d (Conv2D)             (None, 32, 32, 16)        160       \n",
      "                                                                 \n",
      " leaky_re_lu (LeakyReLU)     (None, 32, 32, 16)        0         \n",
      "                                                                 \n",
      " conv2d_1 (Conv2D)           (None, 32, 32, 32)        4640      \n",
      "                                                                 \n",
      " leaky_re_lu_1 (LeakyReLU)   (None, 32, 32, 32)        0         \n",
      "                                                                 \n",
      " max_pooling2d (MaxPooling2D  (None, 16, 16, 32)       0         \n",
      " )                                                               \n",
      "                                                                 \n",
      " flatten (Flatten)           (None, 8192)              0         \n",
      "                                                                 \n",
      " dense (Dense)               (None, 32)                262176    \n",
      "                                                                 \n",
      " leaky_re_lu_2 (LeakyReLU)   (None, 32)                0         \n",
      "                                                                 \n",
      " dense_1 (Dense)             (None, 10)                330       \n",
      "                                                                 \n",
      "=================================================================\n",
      "Total params: 267,306\n",
      "Trainable params: 267,306\n",
      "Non-trainable params: 0\n",
      "_________________________________________________________________\n"
     ]
    }
   ],
   "source": [
    "# Print the model summary\n",
    "\n",
    "model_1.summary()"
   ]
  },
  {
   "cell_type": "code",
   "execution_count": 16,
   "metadata": {
    "colab": {
     "base_uri": "https://localhost:8080/"
    },
    "id": "3Fy3Dif_zcCk",
    "outputId": "44927fdf-5447-4c53-be67-ca56e5538207"
   },
   "outputs": [
    {
     "name": "stdout",
     "output_type": "stream",
     "text": [
      "Epoch 1/20\n",
      "1050/1050 [==============================] - 17s 4ms/step - loss: 1.1660 - accuracy: 0.6152 - val_loss: 0.6342 - val_accuracy: 0.8161\n",
      "Epoch 2/20\n",
      "1050/1050 [==============================] - 4s 4ms/step - loss: 0.5316 - accuracy: 0.8485 - val_loss: 0.5254 - val_accuracy: 0.8505\n",
      "Epoch 3/20\n",
      "1050/1050 [==============================] - 4s 4ms/step - loss: 0.4422 - accuracy: 0.8709 - val_loss: 0.5251 - val_accuracy: 0.8495\n",
      "Epoch 4/20\n",
      "1050/1050 [==============================] - 4s 4ms/step - loss: 0.3895 - accuracy: 0.8884 - val_loss: 0.4527 - val_accuracy: 0.8735\n",
      "Epoch 5/20\n",
      "1050/1050 [==============================] - 4s 4ms/step - loss: 0.3446 - accuracy: 0.8980 - val_loss: 0.5019 - val_accuracy: 0.8583\n",
      "Epoch 6/20\n",
      "1050/1050 [==============================] - 4s 4ms/step - loss: 0.3030 - accuracy: 0.9102 - val_loss: 0.4801 - val_accuracy: 0.8686\n",
      "Epoch 7/20\n",
      "1050/1050 [==============================] - 4s 4ms/step - loss: 0.2714 - accuracy: 0.9187 - val_loss: 0.4582 - val_accuracy: 0.8744\n",
      "Epoch 8/20\n",
      "1050/1050 [==============================] - 4s 4ms/step - loss: 0.2447 - accuracy: 0.9260 - val_loss: 0.4955 - val_accuracy: 0.8671\n",
      "Epoch 9/20\n",
      "1050/1050 [==============================] - 4s 4ms/step - loss: 0.2222 - accuracy: 0.9318 - val_loss: 0.4968 - val_accuracy: 0.8721\n",
      "Epoch 10/20\n",
      "1050/1050 [==============================] - 4s 4ms/step - loss: 0.1956 - accuracy: 0.9408 - val_loss: 0.5128 - val_accuracy: 0.8765\n",
      "Epoch 11/20\n",
      "1050/1050 [==============================] - 4s 4ms/step - loss: 0.1788 - accuracy: 0.9454 - val_loss: 0.5648 - val_accuracy: 0.8620\n",
      "Epoch 12/20\n",
      "1050/1050 [==============================] - 4s 4ms/step - loss: 0.1611 - accuracy: 0.9496 - val_loss: 0.5524 - val_accuracy: 0.8725\n",
      "Epoch 13/20\n",
      "1050/1050 [==============================] - 4s 4ms/step - loss: 0.1439 - accuracy: 0.9551 - val_loss: 0.6081 - val_accuracy: 0.8675\n",
      "Epoch 14/20\n",
      "1050/1050 [==============================] - 4s 4ms/step - loss: 0.1305 - accuracy: 0.9599 - val_loss: 0.6322 - val_accuracy: 0.8651\n",
      "Epoch 15/20\n",
      "1050/1050 [==============================] - 4s 4ms/step - loss: 0.1197 - accuracy: 0.9620 - val_loss: 0.6421 - val_accuracy: 0.8714\n",
      "Epoch 16/20\n",
      "1050/1050 [==============================] - 4s 4ms/step - loss: 0.1091 - accuracy: 0.9649 - val_loss: 0.6913 - val_accuracy: 0.8708\n",
      "Epoch 17/20\n",
      "1050/1050 [==============================] - 4s 4ms/step - loss: 0.0952 - accuracy: 0.9698 - val_loss: 0.7185 - val_accuracy: 0.8648\n",
      "Epoch 18/20\n",
      "1050/1050 [==============================] - 4s 4ms/step - loss: 0.0916 - accuracy: 0.9712 - val_loss: 0.7656 - val_accuracy: 0.8667\n",
      "Epoch 19/20\n",
      "1050/1050 [==============================] - 4s 4ms/step - loss: 0.0805 - accuracy: 0.9742 - val_loss: 0.7917 - val_accuracy: 0.8649\n",
      "Epoch 20/20\n",
      "1050/1050 [==============================] - 4s 4ms/step - loss: 0.0723 - accuracy: 0.9769 - val_loss: 0.8004 - val_accuracy: 0.8689\n"
     ]
    }
   ],
   "source": [
    "# Fit the model\n",
    "\n",
    "history_model_1 = model_1.fit(X_train, y_train, validation_data = (X_test, y_test), validation_split = 0.20, verbose = 1, batch_size = 32, epochs = 20)"
   ]
  },
  {
   "cell_type": "markdown",
   "metadata": {
    "id": "tKOckG-KPyLg"
   },
   "source": [
    "### **Plotting the validation and training accuracies**"
   ]
  },
  {
   "cell_type": "markdown",
   "metadata": {
    "id": "JPzfIf9kKDNw"
   },
   "source": [
    "### **Question 4: Write your observations on the below plot. (2 Marks)**"
   ]
  },
  {
   "cell_type": "code",
   "execution_count": 17,
   "metadata": {
    "colab": {
     "base_uri": "https://localhost:8080/",
     "height": 497
    },
    "id": "lt77zgGMP4yw",
    "outputId": "90793a61-dc15-4b92-e4ac-041a0ed17ea1"
   },
   "outputs": [
    {
     "data": {
      "image/png": "[encoded data removed]",
      "text/plain": [
       "<Figure size 576x576 with 1 Axes>"
      ]
     },
     "metadata": {
      "needs_background": "light"
     },
     "output_type": "display_data"
    }
   ],
   "source": [
    "# Plotting the accuracies\n",
    "\n",
    "dict_hist = history_model_1.history\n",
    "\n",
    "list_ep = [i for i in range(1, 21)]\n",
    "\n",
    "plt.figure(figsize = (8, 8))\n",
    "\n",
    "plt.plot(list_ep, dict_hist['accuracy'], ls = '--', label = 'accuracy')\n",
    "\n",
    "plt.plot(list_ep, dict_hist['val_accuracy'], ls = '--', label = 'val_accuracy')\n",
    "\n",
    "plt.ylabel('Accuracy')\n",
    "\n",
    "plt.xlabel('Epochs')\n",
    "\n",
    "plt.legend()\n",
    "\n",
    "plt.show()"
   ]
  },
  {
   "cell_type": "markdown",
   "metadata": {
    "id": "pGBbQpLONX7k"
   },
   "source": [
    "**Observations:**\n",
    "* The validation accuracy of the CNN (higher than 80%) is higher than the ANN (lower than 80%)\n",
    "* This model begins overfitting soon - after just a few epochs - when the accuracy on training continue increasing but the accuracy on validation stays stable, even slightly decreases.\n",
    "* This model should therefore be stopped early (epoch 2-3) to avoid overfitting, but I think that a model trained so little is not desirable. \n",
    "* This result may suggest that the model needs regularization to avoid early overfitting. "
   ]
  },
  {
   "cell_type": "markdown",
   "metadata": {
    "id": "z0qgLMBZm5-K"
   },
   "source": [
    "Let's build another model and see if we can get a better model with generalized performance.\n",
    "\n",
    "First, we need to clear the previous model's history from the Keras backend. Also, let's fix the seed again after clearing the backend."
   ]
  },
  {
   "cell_type": "code",
   "execution_count": 18,
   "metadata": {
    "id": "y98BpLxsok_H"
   },
   "outputs": [],
   "source": [
    "# Clearing backend\n",
    "\n",
    "from tensorflow.keras import backend\n",
    "\n",
    "backend.clear_session()"
   ]
  },
  {
   "cell_type": "code",
   "execution_count": 19,
   "metadata": {
    "id": "HbKi93HTolGW"
   },
   "outputs": [],
   "source": [
    "# Fixing the seed for random number generators\n",
    "\n",
    "np.random.seed(42)\n",
    "\n",
    "import random\n",
    "\n",
    "random.seed(42)\n",
    "\n",
    "tf.random.set_seed(42)"
   ]
  },
  {
   "cell_type": "markdown",
   "metadata": {
    "id": "lT6o3TIKuCtk"
   },
   "source": [
    "### **Second Model Architecture**\n",
    "\n",
    "- Write a function that returns a sequential model with the following architecture:\n",
    " - First Convolutional layer with **16 filters and the kernel size of 3x3**. Use the **'same' padding** and provide the **input shape = (32, 32, 1)**\n",
    " - Add a **LeakyRelu layer** with the **slope equal to 0.1**\n",
    " - Second Convolutional layer with **32 filters and the kernel size of 3x3 with 'same' padding**\n",
    " - Add **LeakyRelu** with the **slope equal to 0.1**\n",
    " - Add a **max-pooling layer** with a **pool size of 2x2**\n",
    " - Add a **BatchNormalization layer**\n",
    " - Third Convolutional layer with **32 filters and the kernel size of 3x3 with 'same' padding**\n",
    " - Add a **LeakyRelu layer with the slope equal to 0.1**\n",
    " - Fourth Convolutional layer **64 filters and the kernel size of 3x3 with 'same' padding** \n",
    " - Add a **LeakyRelu layer with the slope equal to 0.1**\n",
    " - Add a **max-pooling layer** with a **pool size of 2x2**\n",
    " - Add a **BatchNormalization layer**\n",
    " - **Flatten** the output from the previous layer\n",
    " - Add a **dense layer with 32 nodes**\n",
    " - Add a **LeakyRelu layer with the slope equal to 0.1**\n",
    " - Add a **dropout layer with the rate equal to 0.5**\n",
    " - Add the final **output layer with nodes equal to the number of classes, i.e., 10** and **'softmax' as the activation function**\n",
    " - Compile the model with the **categorical_crossentropy loss, adam optimizers (learning_rate = 0.001), and metric equal to 'accuracy'**. Do not fit the model here, just return the compiled model.\n",
    "- Call the function cnn_model_2 and store the model in a new variable.\n",
    "- Print the summary of the model.\n",
    "- Fit the model on the train data with a **validation split of 0.2, batch size = 128, verbose = 1, and epochs = 30**. Store the model building history to use later for visualization."
   ]
  },
  {
   "cell_type": "markdown",
   "metadata": {
    "id": "y5IBLS1eKDNy"
   },
   "source": [
    "### **Question 5: Build and train the second CNN model as per the above mentioned architecture. (10 Marks)**"
   ]
  },
  {
   "cell_type": "code",
   "execution_count": 20,
   "metadata": {
    "id": "EEPYLFIPnSDP"
   },
   "outputs": [],
   "source": [
    "# Define the model\n",
    "\n",
    "def cnn_model_2():\n",
    "    \n",
    "    model = Sequential()\n",
    "    \n",
    "    # Add layers as per the architecture mentioned above in the same sequence\n",
    "\n",
    "    model.add(Conv2D(filters = 16, kernel_size = (3, 3), padding = 'same', input_shape = (32, 32, 1)))\n",
    "\n",
    "    model.add(LeakyReLU(alpha=0.1))\n",
    "\n",
    "    model.add(Conv2D(filters = 32, kernel_size = (3, 3), padding = 'same'))\n",
    "\n",
    "    model.add(LeakyReLU(alpha=0.1))\n",
    "\n",
    "    model.add(MaxPool2D(pool_size = (2, 2)))\n",
    "\n",
    "    model.add(BatchNormalization())\n",
    "\n",
    "    model.add(Conv2D(filters = 32, kernel_size = (3, 3), padding = 'same'))\n",
    "\n",
    "    model.add(LeakyReLU(alpha=0.1))\n",
    "\n",
    "    model.add(Conv2D(filters = 64, kernel_size = (3, 3), padding = 'same'))\n",
    "\n",
    "    model.add(LeakyReLU(alpha=0.1))\n",
    "\n",
    "    model.add(MaxPool2D(pool_size = (2, 2)))\n",
    "\n",
    "    model.add(BatchNormalization())\n",
    "\n",
    "    model.add(Flatten())\n",
    "\n",
    "    model.add(Dense(32))\n",
    "\n",
    "    model.add(LeakyReLU(alpha=0.1))\n",
    "\n",
    "    model.add(Dropout(rate=0.5))\n",
    "\n",
    "    model.add(Dense(10, activation = 'softmax'))\n",
    "\n",
    "    \n",
    "    # Compile the model\n",
    "\n",
    "    model.compile(optimizer = Adam(learning_rate = 0.001), loss = 'categorical_crossentropy', metrics = ['accuracy'])\n",
    "    \n",
    "    return model"
   ]
  },
  {
   "cell_type": "code",
   "execution_count": 21,
   "metadata": {
    "id": "AKjDY4plnSFl"
   },
   "outputs": [],
   "source": [
    "# Build the model\n",
    "\n",
    "model_2 = cnn_model_2()"
   ]
  },
  {
   "cell_type": "code",
   "execution_count": 22,
   "metadata": {
    "colab": {
     "base_uri": "https://localhost:8080/"
    },
    "id": "gz_6SVrU2swZ",
    "outputId": "0713e099-d93a-4dfd-a906-eb4d06ee9995"
   },
   "outputs": [
    {
     "name": "stdout",
     "output_type": "stream",
     "text": [
      "Model: \"sequential\"\n",
      "_________________________________________________________________\n",
      " Layer (type)                Output Shape              Param #   \n",
      "=================================================================\n",
      " conv2d (Conv2D)             (None, 32, 32, 16)        160       \n",
      "                                                                 \n",
      " leaky_re_lu (LeakyReLU)     (None, 32, 32, 16)        0         \n",
      "                                                                 \n",
      " conv2d_1 (Conv2D)           (None, 32, 32, 32)        4640      \n",
      "                                                                 \n",
      " leaky_re_lu_1 (LeakyReLU)   (None, 32, 32, 32)        0         \n",
      "                                                                 \n",
      " max_pooling2d (MaxPooling2D  (None, 16, 16, 32)       0         \n",
      " )                                                               \n",
      "                                                                 \n",
      " batch_normalization (BatchN  (None, 16, 16, 32)       128       \n",
      " ormalization)                                                   \n",
      "                                                                 \n",
      " conv2d_2 (Conv2D)           (None, 16, 16, 32)        9248      \n",
      "                                                                 \n",
      " leaky_re_lu_2 (LeakyReLU)   (None, 16, 16, 32)        0         \n",
      "                                                                 \n",
      " conv2d_3 (Conv2D)           (None, 16, 16, 64)        18496     \n",
      "                                                                 \n",
      " leaky_re_lu_3 (LeakyReLU)   (None, 16, 16, 64)        0         \n",
      "                                                                 \n",
      " max_pooling2d_1 (MaxPooling  (None, 8, 8, 64)         0         \n",
      " 2D)                                                             \n",
      "                                                                 \n",
      " batch_normalization_1 (Batc  (None, 8, 8, 64)         256       \n",
      " hNormalization)                                                 \n",
      "                                                                 \n",
      " flatten (Flatten)           (None, 4096)              0         \n",
      "                                                                 \n",
      " dense (Dense)               (None, 32)                131104    \n",
      "                                                                 \n",
      " leaky_re_lu_4 (LeakyReLU)   (None, 32)                0         \n",
      "                                                                 \n",
      " dropout (Dropout)           (None, 32)                0         \n",
      "                                                                 \n",
      " dense_1 (Dense)             (None, 10)                330       \n",
      "                                                                 \n",
      "=================================================================\n",
      "Total params: 164,362\n",
      "Trainable params: 164,170\n",
      "Non-trainable params: 192\n",
      "_________________________________________________________________\n"
     ]
    }
   ],
   "source": [
    "# Print the summary\n",
    "\n",
    "model_2.summary()"
   ]
  },
  {
   "cell_type": "code",
   "execution_count": 23,
   "metadata": {
    "colab": {
     "base_uri": "https://localhost:8080/"
    },
    "id": "IQ0Sc4R-y-uu",
    "outputId": "16d4e949-7768-4ddb-e2cb-d854d8ca70dc"
   },
   "outputs": [
    {
     "name": "stdout",
     "output_type": "stream",
     "text": [
      "Epoch 1/30\n",
      "230/230 [==============================] - 4s 13ms/step - loss: 1.5410 - accuracy: 0.4730 - val_loss: 2.6466 - val_accuracy: 0.1255\n",
      "Epoch 2/30\n",
      "230/230 [==============================] - 3s 11ms/step - loss: 0.7250 - accuracy: 0.7761 - val_loss: 0.9179 - val_accuracy: 0.6960\n",
      "Epoch 3/30\n",
      "230/230 [==============================] - 2s 10ms/step - loss: 0.5929 - accuracy: 0.8177 - val_loss: 0.4990 - val_accuracy: 0.8582\n",
      "Epoch 4/30\n",
      "230/230 [==============================] - 3s 11ms/step - loss: 0.5083 - accuracy: 0.8441 - val_loss: 0.4648 - val_accuracy: 0.8680\n",
      "Epoch 5/30\n",
      "230/230 [==============================] - 2s 10ms/step - loss: 0.4653 - accuracy: 0.8571 - val_loss: 0.4210 - val_accuracy: 0.8815\n",
      "Epoch 6/30\n",
      "230/230 [==============================] - 3s 11ms/step - loss: 0.4184 - accuracy: 0.8714 - val_loss: 0.4137 - val_accuracy: 0.8872\n",
      "Epoch 7/30\n",
      "230/230 [==============================] - 3s 11ms/step - loss: 0.3907 - accuracy: 0.8787 - val_loss: 0.3758 - val_accuracy: 0.8948\n",
      "Epoch 8/30\n",
      "230/230 [==============================] - 2s 10ms/step - loss: 0.3604 - accuracy: 0.8880 - val_loss: 0.3943 - val_accuracy: 0.8914\n",
      "Epoch 9/30\n",
      "230/230 [==============================] - 2s 10ms/step - loss: 0.3406 - accuracy: 0.8921 - val_loss: 0.4161 - val_accuracy: 0.8959\n",
      "Epoch 10/30\n",
      "230/230 [==============================] - 2s 10ms/step - loss: 0.3185 - accuracy: 0.8992 - val_loss: 0.3956 - val_accuracy: 0.8922\n",
      "Epoch 11/30\n",
      "230/230 [==============================] - 2s 10ms/step - loss: 0.3092 - accuracy: 0.9049 - val_loss: 0.4272 - val_accuracy: 0.8937\n",
      "Epoch 12/30\n",
      "230/230 [==============================] - 3s 11ms/step - loss: 0.2851 - accuracy: 0.9081 - val_loss: 0.4217 - val_accuracy: 0.8960\n",
      "Epoch 13/30\n",
      "230/230 [==============================] - 2s 10ms/step - loss: 0.2648 - accuracy: 0.9158 - val_loss: 0.3905 - val_accuracy: 0.8997\n",
      "Epoch 14/30\n",
      "230/230 [==============================] - 3s 11ms/step - loss: 0.2607 - accuracy: 0.9156 - val_loss: 0.4147 - val_accuracy: 0.9008\n",
      "Epoch 15/30\n",
      "230/230 [==============================] - 2s 10ms/step - loss: 0.2470 - accuracy: 0.9220 - val_loss: 0.4355 - val_accuracy: 0.8764\n",
      "Epoch 16/30\n",
      "230/230 [==============================] - 3s 12ms/step - loss: 0.2337 - accuracy: 0.9234 - val_loss: 0.4506 - val_accuracy: 0.8844\n",
      "Epoch 17/30\n",
      "230/230 [==============================] - 3s 15ms/step - loss: 0.2183 - accuracy: 0.9270 - val_loss: 0.4672 - val_accuracy: 0.8887\n",
      "Epoch 18/30\n",
      "230/230 [==============================] - 3s 13ms/step - loss: 0.2201 - accuracy: 0.9292 - val_loss: 0.4086 - val_accuracy: 0.9000\n",
      "Epoch 19/30\n",
      "230/230 [==============================] - 3s 12ms/step - loss: 0.2130 - accuracy: 0.9320 - val_loss: 0.4032 - val_accuracy: 0.9066\n",
      "Epoch 20/30\n",
      "230/230 [==============================] - 3s 13ms/step - loss: 0.2071 - accuracy: 0.9325 - val_loss: 0.4362 - val_accuracy: 0.9011\n",
      "Epoch 21/30\n",
      "230/230 [==============================] - 3s 12ms/step - loss: 0.1948 - accuracy: 0.9348 - val_loss: 0.4222 - val_accuracy: 0.8933\n",
      "Epoch 22/30\n",
      "230/230 [==============================] - 3s 12ms/step - loss: 0.1933 - accuracy: 0.9357 - val_loss: 0.4089 - val_accuracy: 0.9049\n",
      "Epoch 23/30\n",
      "230/230 [==============================] - 3s 13ms/step - loss: 0.1782 - accuracy: 0.9407 - val_loss: 0.4164 - val_accuracy: 0.9129\n",
      "Epoch 24/30\n",
      "230/230 [==============================] - 3s 12ms/step - loss: 0.1679 - accuracy: 0.9439 - val_loss: 0.4440 - val_accuracy: 0.9066\n",
      "Epoch 25/30\n",
      "230/230 [==============================] - 3s 13ms/step - loss: 0.1663 - accuracy: 0.9442 - val_loss: 0.3932 - val_accuracy: 0.9100\n",
      "Epoch 26/30\n",
      "230/230 [==============================] - 3s 12ms/step - loss: 0.1706 - accuracy: 0.9437 - val_loss: 0.4502 - val_accuracy: 0.9056\n",
      "Epoch 27/30\n",
      "230/230 [==============================] - 2s 10ms/step - loss: 0.1578 - accuracy: 0.9466 - val_loss: 0.4562 - val_accuracy: 0.9098\n",
      "Epoch 28/30\n",
      "230/230 [==============================] - 3s 12ms/step - loss: 0.1561 - accuracy: 0.9470 - val_loss: 0.5370 - val_accuracy: 0.9081\n",
      "Epoch 29/30\n",
      "230/230 [==============================] - 3s 12ms/step - loss: 0.1520 - accuracy: 0.9496 - val_loss: 0.5116 - val_accuracy: 0.8960\n",
      "Epoch 30/30\n",
      "230/230 [==============================] - 3s 11ms/step - loss: 0.1453 - accuracy: 0.9513 - val_loss: 0.5377 - val_accuracy: 0.9020\n"
     ]
    }
   ],
   "source": [
    "# Fit the model\n",
    "\n",
    "history_model_2 = model_2.fit(X_train, y_train, validation_data = (X_test, y_test), validation_split = 0.30, verbose = 1, batch_size = 128, epochs = 30)"
   ]
  },
  {
   "cell_type": "markdown",
   "metadata": {
    "id": "zKCdy59GKDN1"
   },
   "source": [
    "### **Plotting the validation and training accuracies**"
   ]
  },
  {
   "cell_type": "markdown",
   "metadata": {
    "id": "PyhUtMy3KDN1"
   },
   "source": [
    "### **Question 6: Write your observations on the below plot. (2 Marks)**"
   ]
  },
  {
   "cell_type": "code",
   "execution_count": 25,
   "metadata": {
    "colab": {
     "base_uri": "https://localhost:8080/",
     "height": 497
    },
    "id": "01ig6BrF1KVy",
    "outputId": "09e5d612-bf90-4d99-d52f-f45551c79be0"
   },
   "outputs": [
    {
     "data": {
      "image/png": "[encoded data removed]",
      "text/plain": [
       "<Figure size 576x576 with 1 Axes>"
      ]
     },
     "metadata": {
      "needs_background": "light"
     },
     "output_type": "display_data"
    }
   ],
   "source": [
    "# Plotting the accuracies\n",
    "\n",
    "dict_hist = history_model_2.history\n",
    "\n",
    "list_ep = [i for i in range(1, 31)]\n",
    "\n",
    "plt.figure(figsize = (8, 8))\n",
    "\n",
    "plt.plot(list_ep, dict_hist['accuracy'], ls = '--', label = 'accuracy')\n",
    "\n",
    "plt.plot(list_ep, dict_hist['val_accuracy'], ls = '--', label = 'val_accuracy')\n",
    "\n",
    "plt.ylabel('Accuracy')\n",
    "\n",
    "plt.xlabel('Epochs')\n",
    "\n",
    "plt.legend()\n",
    "\n",
    "plt.show()"
   ]
  },
  {
   "cell_type": "markdown",
   "metadata": {
    "id": "VPW1LlD61RDn"
   },
   "source": [
    "**Observations:**\n",
    "* Although this model is more complex than the previous one, it has less parameters to train (164,170 against 267,306) because of the additional convolutional layers added, which reduce the size of the flattened vector fed to the dense layers.  \n",
    "* The accuracy on the validation set is about 90%, which means this is the best model built so far, pending the evaluation on the test set.\n",
    "* Now the model starts overfitting after about 10 epochs instead of 2-3 epochs of the simpler model. Furtermore, the amount of overfitting is not so high like in the previous case, which may indicate that this model is more robust to overfitting. \n",
    "* This model should be stopped and saved after 10 epochs.\n"
   ]
  },
  {
   "cell_type": "markdown",
   "metadata": {
    "id": "8kuXx9Bvu00f"
   },
   "source": [
    "## **Predictions on the test data**\n",
    "\n",
    "- Make predictions on the test set using the second model.\n",
    "- Print the obtained results using the classification report and the confusion matrix.\n",
    "- Final observations on the obtained results."
   ]
  },
  {
   "cell_type": "markdown",
   "metadata": {
    "id": "eHCRwRbgKDN2"
   },
   "source": [
    "### **Question 7: Make predictions on the test data using the second model. (1 Mark)** "
   ]
  },
  {
   "cell_type": "code",
   "execution_count": 26,
   "metadata": {
    "id": "xbWMEtTj5Ad0"
   },
   "outputs": [],
   "source": [
    "# Make prediction on the test data using model_2 \n",
    "\n",
    "test_pred = model_2.predict(X_test)\n",
    "\n",
    "test_pred = np.argmax(test_pred, axis = -1)"
   ]
  },
  {
   "cell_type": "markdown",
   "metadata": {
    "id": "i3li8Ib08yts"
   },
   "source": [
    "**Note:** Earlier, we noticed that each entry of the target variable is a one-hot encoded vector, but to print the classification report and confusion matrix, we must convert each entry of y_test to a single label."
   ]
  },
  {
   "cell_type": "code",
   "execution_count": 27,
   "metadata": {
    "id": "NByu7uAQ8x9P"
   },
   "outputs": [],
   "source": [
    "# Converting each entry to single label from one-hot encoded vector\n",
    "\n",
    "y_test = np.argmax(y_test, axis = -1)"
   ]
  },
  {
   "cell_type": "markdown",
   "metadata": {
    "id": "aVCa-ysWKDN3"
   },
   "source": [
    "### **Question 8: Write your final observations on the performance of the model on the test data. (2 Marks)**"
   ]
  },
  {
   "cell_type": "code",
   "execution_count": 28,
   "metadata": {
    "colab": {
     "base_uri": "https://localhost:8080/",
     "height": 648
    },
    "id": "xRddeJ-3EHT1",
    "outputId": "dc583b98-e29e-44b6-e471-ac489ef4b2b2"
   },
   "outputs": [
    {
     "name": "stdout",
     "output_type": "stream",
     "text": [
      "              precision    recall  f1-score   support\n",
      "\n",
      "           0       0.95      0.92      0.93      1814\n",
      "           1       0.89      0.91      0.90      1828\n",
      "           2       0.95      0.90      0.92      1803\n",
      "           3       0.89      0.86      0.88      1719\n",
      "           4       0.88      0.94      0.91      1812\n",
      "           5       0.87      0.92      0.89      1768\n",
      "           6       0.89      0.88      0.89      1832\n",
      "           7       0.91      0.93      0.92      1808\n",
      "           8       0.91      0.89      0.90      1812\n",
      "           9       0.92      0.90      0.91      1804\n",
      "\n",
      "    accuracy                           0.90     18000\n",
      "   macro avg       0.90      0.90      0.90     18000\n",
      "weighted avg       0.90      0.90      0.90     18000\n",
      "\n"
     ]
    },
    {
     "data": {
      "image/png": "[encoded data removed]",
      "text/plain": [
       "<Figure size 576x360 with 2 Axes>"
      ]
     },
     "metadata": {
      "needs_background": "light"
     },
     "output_type": "display_data"
    }
   ],
   "source": [
    "# Importing required functions\n",
    "\n",
    "from sklearn.metrics import classification_report\n",
    "\n",
    "from sklearn.metrics import confusion_matrix\n",
    "\n",
    "# Printing the classification report\n",
    "\n",
    "print(classification_report(y_test, test_pred))\n",
    "\n",
    "# Plotting the heatmap using confusion matrix\n",
    "\n",
    "cm = confusion_matrix(y_test, test_pred)\n",
    "\n",
    "plt.figure(figsize = (8, 5))\n",
    "\n",
    "sns.heatmap(cm, annot = True,  fmt = '.0f')\n",
    "\n",
    "plt.ylabel('Actual')\n",
    "\n",
    "plt.xlabel('Predicted')\n",
    "\n",
    "plt.show()"
   ]
  },
  {
   "cell_type": "markdown",
   "metadata": {
    "id": "DjErl4GA2u9s"
   },
   "source": [
    "**Final Observations:**\n",
    "* First of all, the test dataset is well balanced because all the digits are well and similarly represented (about 1800 data each).\n",
    "* The overall accuracy on the test set (90%) is similar to the accuracy on the validation set, which proves that the model is generalizing well.\n",
    "* Even in this exercise (as for ANN), the confusion matrix is the best tool to assess the model performance on the test set. This CNN model is performing much better than ANN because the off-diagonal terms have all much lower frequencies: still the same difficulties to distinguish (for instance) a 6 from an 8 or a 5 from a 6, but to a much lesser extent than ANN."
   ]
  }
 ],
 "metadata": {
  "accelerator": "GPU",
  "colab": {
   "collapsed_sections": [],
   "provenance": []
  },
  "gpuClass": "standard",
  "kernelspec": {
   "display_name": "Python 3 (ipykernel)",
   "language": "python",
   "name": "python3"
  },
  "language_info": {
   "codemirror_mode": {
    "name": "ipython",
    "version": 3
   },
   "file_extension": ".py",
   "mimetype": "text/x-python",
   "name": "python",
   "nbconvert_exporter": "python",
   "pygments_lexer": "ipython3",
   "version": "3.7.1"
  }
 },
 "nbformat": 4,
 "nbformat_minor": 1
}
